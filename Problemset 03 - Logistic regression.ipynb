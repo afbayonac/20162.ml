{
 "cells": [
  {
   "cell_type": "markdown",
   "metadata": {},
   "source": [
    "## EJECUTA ESTA CELDA PARA AUTENTICARTE CON TU CUENTA DE GMAIL"
   ]
  },
  {
   "cell_type": "code",
   "execution_count": null,
   "metadata": {
    "collapsed": false
   },
   "outputs": [],
   "source": [
    "from mooclib import *\n",
    "import inspect, urllib\n",
    "html, auth_code, userinfo = google_authenticate(PORT_NUMBER=8080)\n",
    "html"
   ]
  },
  {
   "cell_type": "markdown",
   "metadata": {},
   "source": [
    "## EJECUTA LA SIGUIENTE CELDA ANTES DE EMPEZAR TUS EJERCICIOS"
   ]
  },
  {
   "cell_type": "code",
   "execution_count": null,
   "metadata": {
    "collapsed": true
   },
   "outputs": [],
   "source": [
    "from sklearn.datasets import *\n",
    "import numpy as np\n",
    "from scipy.optimize import minimize\n",
    "import matplotlib.pyplot as plt\n",
    "%matplotlib inline\n",
    "\n",
    "def plot_2Ddata_with_boundary(classifier,X,y):\n",
    "    n = 200\n",
    "    mins,maxs = np.min(d,axis=0), np.max(d,axis=0)\n",
    "    mins -= np.abs(mins)*.2\n",
    "    maxs += np.abs(maxs)*.2\n",
    "    d0 = np.linspace(mins[0], maxs[0],n)\n",
    "    d1 = np.linspace(mins[1], maxs[1],n)\n",
    "    gd0,gd1 = np.meshgrid(d0,d1)\n",
    "    D = np.hstack((gd0.reshape(-1,1), gd1.reshape(-1,1)))\n",
    "    p = (classifier.predict(D)*1.).reshape((n,n))\n",
    "    plt.contourf(gd0,gd1,p, levels=[-0.1,0.5], alpha=0.5, cmap=plt.cm.Greys)\n",
    "    plt.scatter(X[y==0][:,0], X[y==0][:,1], c=\"blue\")\n",
    "    plt.scatter(X[y==1][:,0], X[y==1][:,1], c=\"red\")\n"
   ]
  },
  {
   "cell_type": "markdown",
   "metadata": {},
   "source": [
    "# Ejercicio 1: API `sklearn`\n",
    "\n",
    "Organiza el código de las notas en una clase siguiendo el API de `sklearn`. Para esto:\n",
    "\n",
    "- La función `fit` calcula el $\\theta$ óptimo. Observa que a la función le llegan los datos originales en una matrix $\\mathbf{R}^{m \\times n}$, tendrás que añadirles una columna de 1's.\n",
    "- El $\\theta$ óptimo se guarda en la variable de instancia `self.theta`\n",
    "- La función `predict` tendrá que añadirle una columna de 1's a los datos que reciba y usar `self.theta` para devolver un vector de predicciones para cada $x^{(i)}$ (cada fila de $X$) de forma que la predicción sea $predict(x^{(i)})=1\\{g(\\theta\\cdot x^{(i)})>0.5\\}$. Es decir, ha de devolver un vector de 0's y 1's."
   ]
  },
  {
   "cell_type": "code",
   "execution_count": null,
   "metadata": {
    "collapsed": false
   },
   "outputs": [],
   "source": [
    "def LR(**args): # hack for inspect to work with classes\n",
    "    from scipy.optimize import minimize\n",
    "    import numpy as np\n",
    "    \n",
    "    class LR_class:\n",
    "        def fit(self, X, y):\n",
    "            X = ... ## TU CODIGO AQUI. ANADELE UNA COLUMNA DE 1's a X\n",
    "            def cost(t):\n",
    "                return  ... ## TU CODIGO AQUI\n",
    "\n",
    "            def grad(t):\n",
    "                return ... ## TU CODIGO AQUI\n",
    "            \n",
    "            r = minimize(... ## TU CODIGO AQUI)\n",
    "            self.theta = r.x \n",
    "\n",
    "        def predict(self, X):\n",
    "            X = ... ## TU CODIGO AQUI. ANADELE UNA COLUMNA DE 1's a X\n",
    "            return ... ## TU CODIGO AQUI. DEVUELVE UN VECTOR DE PREDICCIONES\n",
    "\n",
    "        def g(self, X):\n",
    "            return 1/(1+np.exp(-X))\n",
    "    return LR_class(**args)\n",
    "                         \n",
    "import urllib, inspect\n",
    "src1 = urllib.quote_plus(inspect.getsource(LR))"
   ]
  },
  {
   "cell_type": "markdown",
   "metadata": {},
   "source": [
    "comprueba tu código"
   ]
  },
  {
   "cell_type": "code",
   "execution_count": null,
   "metadata": {
    "collapsed": false
   },
   "outputs": [],
   "source": [
    "data = np.loadtxt(\"data/logregdata.csv\", delimiter=\",\", skiprows=1)[10:20]\n",
    "d,c = data[:,:2], data[:,2].astype(int)\n",
    "print d\n",
    "lr = LR()\n",
    "lr.fit(d,c)\n",
    "print \"predictions   \", lr.predict(d)\n",
    "print \"actual classes\", c\n",
    "plot_2Ddata_with_boundary(lr, d, c)"
   ]
  },
  {
   "cell_type": "code",
   "execution_count": null,
   "metadata": {
    "collapsed": false
   },
   "outputs": [],
   "source": [
    "data = np.loadtxt(\"data/logregdata.csv\", delimiter=\",\", skiprows=1)\n",
    "d,c = data[:,:2], data[:,2]\n",
    "lr = LR()\n",
    "lr.fit(d,c)\n",
    "plot_2Ddata_with_boundary(lr, d, c)"
   ]
  },
  {
   "cell_type": "markdown",
   "metadata": {},
   "source": [
    "#### evaluate your answer before submitting:"
   ]
  },
  {
   "cell_type": "code",
   "execution_count": null,
   "metadata": {
    "collapsed": false
   },
   "outputs": [],
   "source": [
    "!./run CHECK_SOLUTION PS3_1 $src1"
   ]
  },
  {
   "cell_type": "markdown",
   "metadata": {},
   "source": [
    "#### submit your answer (you must be connected to internet)"
   ]
  },
  {
   "cell_type": "code",
   "execution_count": null,
   "metadata": {
    "collapsed": false
   },
   "outputs": [],
   "source": [
    "!./run SUBMIT_SOLUTION PS3_1 $src1"
   ]
  },
  {
   "cell_type": "markdown",
   "metadata": {},
   "source": [
    "# Ejercicio 2: Métrica de desempeño\n",
    "\n",
    "completa el método `score` para que:\n",
    "\n",
    "- llame al método `predict``\n",
    "- calcule el porcentaje de aciertos de predicción con respecto a `y`"
   ]
  },
  {
   "cell_type": "code",
   "execution_count": null,
   "metadata": {
    "collapsed": true
   },
   "outputs": [],
   "source": [
    "def LR(**args): # hack for inspect to work with classes\n",
    "    from scipy.optimize import minimize\n",
    "    import numpy as np\n",
    "    \n",
    "    class LR_class:\n",
    "        def fit(self, X, y):\n",
    "            X = ... ## TU CODIGO AQUI\n",
    "            def cost(t):\n",
    "                return ... ## TU CODIGO AQUI\n",
    "\n",
    "            def grad(t):\n",
    "                return ... ## TU CODIGO AQUI\n",
    "\n",
    "            r = minimize(... ## TU CODIGO AQUI)\n",
    "            self.theta = r.x        \n",
    "\n",
    "        def predict(self, X):\n",
    "            X = ... ## TU CODIGO AQUI\n",
    "            return ... ## TU CODIGO AQUI\n",
    "\n",
    "        def g(self, X):\n",
    "            return 1/(1+np.exp(-X))\n",
    "\n",
    "        def score(self, X,y):\n",
    "            return ... ## TU CODIGO AQUI\n",
    "        \n",
    "    return LR_class(**args)\n",
    "\n",
    "import urllib, inspect\n",
    "src2 = urllib.quote_plus(inspect.getsource(LR))"
   ]
  },
  {
   "cell_type": "code",
   "execution_count": null,
   "metadata": {
    "collapsed": false
   },
   "outputs": [],
   "source": [
    "data = np.loadtxt(\"data/logregdata.csv\", delimiter=\",\", skiprows=1)\n",
    "d,c = data[:,:2], data[:,2]\n",
    "lr = LR()\n",
    "lr.fit(d,c)\n",
    "print lr.score(d,c)\n",
    "plot_2Ddata_with_boundary(lr, d, c)"
   ]
  },
  {
   "cell_type": "markdown",
   "metadata": {},
   "source": [
    "#### evaluate your answer before submitting:"
   ]
  },
  {
   "cell_type": "code",
   "execution_count": null,
   "metadata": {
    "collapsed": false
   },
   "outputs": [],
   "source": [
    "!./run CHECK_SOLUTION PS3_2 $src2"
   ]
  },
  {
   "cell_type": "markdown",
   "metadata": {},
   "source": [
    "#### submit your answer (you must be connected to internet)"
   ]
  },
  {
   "cell_type": "code",
   "execution_count": null,
   "metadata": {
    "collapsed": false
   },
   "outputs": [],
   "source": [
    "!./run SUBMIT_SOLUTION PS3_2 $src2"
   ]
  },
  {
   "cell_type": "markdown",
   "metadata": {},
   "source": [
    "# Ejercicio 3: Características polinomiales"
   ]
  },
  {
   "cell_type": "markdown",
   "metadata": {},
   "source": [
    "completa la función `map_features` para que dada una matrix $X\\in \\mathbb{R}^{m \\times n}$ devuelva otra matrix $\\mathbb{R}^{m \\times 3n}$ que incluya las columnas originales elevadas al cuadrado y al cubo.\n",
    "\n",
    "Por ejemplo para la siguiente matriz de entrada:\n",
    "\n",
    "    [[6 0 2]\n",
    "     [5 8 9]\n",
    "     [1 4 9]\n",
    "     [3 5 1]\n",
    "     [3 5 3]]\n",
    "     \n",
    "debería de devolver la siguiente matriz:\n",
    "\n",
    "    [[  6   0   2  36   0   4 216   0   8]\n",
    "     [  5   8   9  25  64  81 125 512 729]\n",
    "     [  1   4   9   1  16  81   1  64 729]\n",
    "     [  3   5   1   9  25   1  27 125   1]\n",
    "     [  3   5   3   9  25   9  27 125  27]]\n",
    "     "
   ]
  },
  {
   "cell_type": "code",
   "execution_count": null,
   "metadata": {
    "collapsed": false
   },
   "outputs": [],
   "source": [
    "def LR(**args): # hack for inspect to work with classes\n",
    "    from scipy.optimize import minimize\n",
    "    import numpy as np\n",
    "    class LR_class:\n",
    "\n",
    "        def map_features(self, X):\n",
    "            return ... ## TU CODIGO AQUI\n",
    "\n",
    "        def fit(self, X, y):\n",
    "\n",
    "            X = ... ## TU CODIGO AQUI. LLAMA A map_features\n",
    "            X = ... ## TU CODIGO AQUI. ANADE UNA COLUMNA DE 1's\n",
    "            def cost(t):\n",
    "                return ... ## TU CODIGO AQUI\n",
    "\n",
    "            def grad(t):\n",
    "                return ... ## TU CODIGO AQUI\n",
    "\n",
    "            r = minimize(... ## TU CODIGO AQUI)\n",
    "            self.theta = r.x     \n",
    "\n",
    "        def predict(self, X):\n",
    "            X = ... ## TU CODIGO AQUI. LLAMA A map_features\n",
    "            X = ... ## TU CODIGO AQUI. ANADE UNA COLUMNA DE 1's\n",
    "            return ... ## TU CODIGO AQUI. DEVUELVE EL VECTOR DE PREDICCIONES\n",
    "\n",
    "        def g(self, X):\n",
    "            return 1/(1+np.exp(-X))\n",
    "\n",
    "        def score(self, X,y):\n",
    "            return ... ## TU CODIGO AQUI. CALCULA EL SCORE\n",
    "    \n",
    "    return LR_class(**args)\n",
    "\n",
    "import urllib, inspect\n",
    "src3 = urllib.quote_plus(inspect.getsource(LR))"
   ]
  },
  {
   "cell_type": "code",
   "execution_count": null,
   "metadata": {
    "collapsed": false
   },
   "outputs": [],
   "source": [
    "data = np.loadtxt(\"data/logregdata.csv\", delimiter=\",\", skiprows=1)[:20]\n",
    "d,c = data[:,:2], data[:,2]\n",
    "lr = LR()\n",
    "lr.fit(d,c)\n",
    "print lr.score(d,c)\n",
    "plot_2Ddata_with_boundary(lr, d, c)\n",
    "print lr.theta"
   ]
  },
  {
   "cell_type": "markdown",
   "metadata": {},
   "source": [
    "#### evaluate your answer before submitting:"
   ]
  },
  {
   "cell_type": "code",
   "execution_count": null,
   "metadata": {
    "collapsed": false
   },
   "outputs": [],
   "source": [
    "!./run CHECK_SOLUTION PS3_3 $src3"
   ]
  },
  {
   "cell_type": "markdown",
   "metadata": {},
   "source": [
    "#### submit your answer (you must be connected to internet)"
   ]
  },
  {
   "cell_type": "code",
   "execution_count": null,
   "metadata": {
    "collapsed": false
   },
   "outputs": [],
   "source": [
    "!./run SUBMIT_SOLUTION PS3_3 $src3"
   ]
  },
  {
   "cell_type": "markdown",
   "metadata": {},
   "source": [
    "# Ejercicio 4: Término de regularización\n",
    "\n",
    "Modificamos la función de coste para penalizar valores grandes de $\\theta$ de la siguiente manera:\n",
    "\n",
    "$$ J(\\theta) =  \\frac{1}{m}\\sum_{i=0}^{m-1} (y^{(i)}-g(\\theta\\mathbf{x}^{(i)}))^2 + \\alpha |\\theta|^2$$\n",
    "\n",
    "donde $\\alpha$ es un escalar para controlar la importancia del nuevo término (con $\\alpha=0$ tenemos el caso sin regularización) y $|\\theta|$ es la norma de $\\theta$. Por tanto el gradiente queda actualizado de la siguiente manera:\n",
    "\n",
    "$$\\nabla J= \\frac{1}{m}2X^{T}\\cdot(g(X\\cdot\\theta)-Y)+2\\alpha|\\theta|$$\n",
    "\n",
    "Modifica las funciones de coste y gradiente para que implementen estas definiciones."
   ]
  },
  {
   "cell_type": "code",
   "execution_count": null,
   "metadata": {
    "collapsed": true
   },
   "outputs": [],
   "source": [
    "def LR(**args): # hack for inspect to work with classes\n",
    "\n",
    "    class LR_class:\n",
    "\n",
    "        def map_features(self, X):\n",
    "            return ... ## TU CODIGO AQUI. \n",
    "\n",
    "        def fit(self, X, y):\n",
    "            alpha = 0.00001\n",
    "            X = ... ## TU CODIGO AQUI. LLAMA A map_features\n",
    "            X = ... ## TU CODIGO AQUI. ANADE UNA COLUMNA DE 1's\n",
    "            def cost(t):\n",
    "                return ... ## TU CODIGO AQUI. NUEVA DEFINICION DEL COSTE\n",
    "\n",
    "            def grad(t):\n",
    "                return ... ## TU CODIGO AQUI. NUEVA DEFINICION DEL GRADIENTE\n",
    "\n",
    "            r = minimize(... ## TU CODIGO AQUI)\n",
    "            self.theta = r.x     \n",
    "\n",
    "        def predict(self, X):\n",
    "            X = ... ## TU CODIGO AQUI. LLAMA A map_features\n",
    "            X = ... ## TU CODIGO AQUI. ANADE UNA COLUMNA DE 1's\n",
    "            return ... ## TU CODIGO AQUI. GENERA EL VECTOR DE PREDICCIONES\n",
    "\n",
    "        def g(self, X):\n",
    "            return 1/(1+np.exp(-X))\n",
    "\n",
    "        def score(self, X,y):\n",
    "            return ... ## TU CODIGO AQUI. DEFINE LA FUNCION DE SCORE   \n",
    "    \n",
    "    return LR_class(**args)\n",
    "\n",
    "import urllib, inspect\n",
    "src4 = urllib.quote_plus(inspect.getsource(LR))"
   ]
  },
  {
   "cell_type": "markdown",
   "metadata": {},
   "source": [
    "comprueba tu código ... el valor de los $\\theta$ obtenidos ha de ser más pequeño que en los ejercicios anteriores"
   ]
  },
  {
   "cell_type": "code",
   "execution_count": null,
   "metadata": {
    "collapsed": false
   },
   "outputs": [],
   "source": [
    "data = np.loadtxt(\"data/logregdata.csv\", delimiter=\",\", skiprows=1)\n",
    "d,c = data[:,:2], data[:,2]\n",
    "\n",
    "lr = LR()\n",
    "lr.fit(d,c)\n",
    "print lr.score(d,c)\n",
    "plot_2Ddata_with_boundary(lr, d, c)\n",
    "print lr.theta"
   ]
  },
  {
   "cell_type": "markdown",
   "metadata": {},
   "source": [
    "#### evaluate your answer before submitting:"
   ]
  },
  {
   "cell_type": "code",
   "execution_count": null,
   "metadata": {
    "collapsed": false
   },
   "outputs": [],
   "source": [
    "!./run CHECK_SOLUTION PS3_4 $src4"
   ]
  },
  {
   "cell_type": "markdown",
   "metadata": {},
   "source": [
    "#### submit your answer (you must be connected to internet)"
   ]
  },
  {
   "cell_type": "code",
   "execution_count": null,
   "metadata": {
    "collapsed": false
   },
   "outputs": [],
   "source": [
    "!./run SUBMIT_SOLUTION PS3_4 $src4"
   ]
  }
 ],
 "metadata": {
  "kernelspec": {
   "display_name": "Python 2",
   "language": "python",
   "name": "python2"
  },
  "language_info": {
   "codemirror_mode": {
    "name": "ipython",
    "version": 2
   },
   "file_extension": ".py",
   "mimetype": "text/x-python",
   "name": "python",
   "nbconvert_exporter": "python",
   "pygments_lexer": "ipython2",
   "version": "2.7.10"
  },
  "toc": {
   "toc_cell": false,
   "toc_number_sections": false,
   "toc_threshold": 6,
   "toc_window_display": false
  }
 },
 "nbformat": 4,
 "nbformat_minor": 0
}
