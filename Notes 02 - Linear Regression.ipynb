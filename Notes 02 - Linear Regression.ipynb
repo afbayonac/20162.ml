{
 "cells": [
  {
   "cell_type": "code",
   "execution_count": 3,
   "metadata": {
    "collapsed": true
   },
   "outputs": [],
   "source": [
    "import numpy as np\n",
    "import matplotlib.pyplot as plt\n",
    "import pandas as pd\n",
    "from scipy.optimize import minimize\n",
    "%matplotlib inline"
   ]
  },
  {
   "cell_type": "code",
   "execution_count": 4,
   "metadata": {
    "collapsed": false
   },
   "outputs": [
    {
     "data": {
      "text/html": [
       "<div>\n",
       "<table border=\"1\" class=\"dataframe\">\n",
       "  <thead>\n",
       "    <tr style=\"text-align: right;\">\n",
       "      <th></th>\n",
       "      <th>area</th>\n",
       "      <th>value</th>\n",
       "    </tr>\n",
       "  </thead>\n",
       "  <tbody>\n",
       "    <tr>\n",
       "      <th>0</th>\n",
       "      <td>57.02</td>\n",
       "      <td>202970</td>\n",
       "    </tr>\n",
       "    <tr>\n",
       "      <th>1</th>\n",
       "      <td>96.07</td>\n",
       "      <td>312626</td>\n",
       "    </tr>\n",
       "    <tr>\n",
       "      <th>2</th>\n",
       "      <td>93.18</td>\n",
       "      <td>264921</td>\n",
       "    </tr>\n",
       "    <tr>\n",
       "      <th>3</th>\n",
       "      <td>91.05</td>\n",
       "      <td>272091</td>\n",
       "    </tr>\n",
       "    <tr>\n",
       "      <th>4</th>\n",
       "      <td>69.76</td>\n",
       "      <td>209846</td>\n",
       "    </tr>\n",
       "  </tbody>\n",
       "</table>\n",
       "</div>"
      ],
      "text/plain": [
       "    area   value\n",
       "0  57.02  202970\n",
       "1  96.07  312626\n",
       "2  93.18  264921\n",
       "3  91.05  272091\n",
       "4  69.76  209846"
      ]
     },
     "execution_count": 4,
     "metadata": {},
     "output_type": "execute_result"
    }
   ],
   "source": [
    "d = pd.read_csv(\"data/houses.csv\")\n",
    "d.head()"
   ]
  },
  {
   "cell_type": "code",
   "execution_count": 5,
   "metadata": {
    "collapsed": false
   },
   "outputs": [
    {
     "data": {
      "text/plain": [
       "<matplotlib.text.Text at 0xa99075ec>"
      ]
     },
     "execution_count": 5,
     "metadata": {},
     "output_type": "execute_result"
    },
    {
     "data": {
      "image/png": "[encoded data removed]",
      "text/plain": [
       "<matplotlib.figure.Figure at 0xa98d1dec>"
      ]
     },
     "metadata": {},
     "output_type": "display_data"
    }
   ],
   "source": [
    "plt.scatter(d.area, d.value)\n",
    "plt.xlabel(\"house area in $m^2$\")\n",
    "plt.ylabel(\"house value in USD\")"
   ]
  },
  {
   "cell_type": "markdown",
   "metadata": {},
   "source": [
    "**ASUMIMOS** que la relación entre el área ($y$) y el valor ($x_1$) es lineal, para la casa $i$:\n",
    "\n",
    "$$y^{(i)} = \\theta_0 + \\theta_1 x_1^{(i)}$$\n",
    "\n",
    "si establecemos que $x_0^{(i)}=1$ para todas las casas, entonces podemos escribir la expresión anterior de forma vectorial, con $\\theta = [\\theta_0, \\theta_1]$ y $\\mathbf{x}=[x_0, x_1]$\n",
    "\n",
    "$$y^{(i)} = \\theta\\mathbf{x}^{(i)}$$\n",
    "\n",
    "queremos encontrar los valores $\\theta_{min}$ que parametrizan una recta de modo que\n",
    "\n",
    "$$ J(\\theta) =  \\sum_{i=0}^{m-1} (\\mathbf{x}\\theta^{(i)}-y^{(i)})^2$$\n",
    "\n",
    "$$\\theta_{min} = \\underset{\\theta}{arg\\,min} \\,\\,\\,J(\\theta)$$ \n",
    "\n",
    "en modo matricial\n",
    "\n",
    "$$J(\\theta) = sum(\\mathbf{X}\\theta-\\mathbf{y})^2$$\n",
    "\n",
    "P.ej., los parámetros $\\theta_0=0$, $\\theta_1=3800$ definen una recta que es mejorable respecto a los datos que tenemos. Observa como creamos las matrices $X$ e $y$, añadiendo una columna de unos a la matrix $X$"
   ]
  },
  {
   "cell_type": "code",
   "execution_count": 6,
   "metadata": {
    "collapsed": false
   },
   "outputs": [
    {
     "name": "stdout",
     "output_type": "stream",
     "text": [
      "(100, 2) (100,)\n"
     ]
    },
    {
     "data": {
      "text/plain": [
       "[<matplotlib.lines.Line2D at 0xa7ecf1cc>]"
      ]
     },
     "execution_count": 6,
     "metadata": {},
     "output_type": "execute_result"
    },
    {
     "data": {
      "image/png": "[encoded data removed]",
      "text/plain": [
       "<matplotlib.figure.Figure at 0xa9981f6c>"
      ]
     },
     "metadata": {},
     "output_type": "display_data"
    }
   ],
   "source": [
    "X = np.hstack((np.ones((len(d),1)), d[[\"area\"]].as_matrix()))\n",
    "y = d.value.as_matrix()\n",
    "print X.shape, y.shape\n",
    "\n",
    "t = np.array([0,3800])\n",
    "\n",
    "xg = np.vstack((np.ones(100), np.linspace(np.min(d.area), np.max(d.area),100))).T\n",
    "plt.scatter(d.area, d.value)\n",
    "plt.plot(xg[:,1], xg.dot(t))"
   ]
  },
  {
   "cell_type": "markdown",
   "metadata": {},
   "source": [
    "Una primera aproximación para obtener la recta con los parámetros $\\theta_{min}$ según definido anteriormente es usando optimización _caja negra_. "
   ]
  },
  {
   "cell_type": "code",
   "execution_count": 10,
   "metadata": {
    "collapsed": false
   },
   "outputs": [],
   "source": [
    "def cost(t):\n",
    "    return np.sum((X.dot(t)-y)**2)"
   ]
  },
  {
   "cell_type": "code",
   "execution_count": 11,
   "metadata": {
    "collapsed": false
   },
   "outputs": [
    {
     "name": "stdout",
     "output_type": "stream",
     "text": [
      "      fun: 87173812745.69467\n",
      " hess_inv: array([[  6.22876043e-02,  -5.63995096e-04],\n",
      "       [ -5.63995096e-04,   5.55252113e-06]])\n",
      "      jac: array([    0., -2048.])\n",
      "  message: 'Desired error not necessarily achieved due to precision loss.'\n",
      "     nfev: 64\n",
      "      nit: 5\n",
      "     njev: 13\n",
      "   status: 2\n",
      "  success: False\n",
      "        x: array([ 24743.21902937,   2937.2995932 ])\n"
     ]
    }
   ],
   "source": [
    "r = minimize(cost, [0,0], method=\"BFGS\")\n",
    "print r"
   ]
  },
  {
   "cell_type": "code",
   "execution_count": 12,
   "metadata": {
    "collapsed": false
   },
   "outputs": [
    {
     "data": {
      "text/plain": [
       "[<matplotlib.lines.Line2D at 0xa7e54d4c>]"
      ]
     },
     "execution_count": 12,
     "metadata": {},
     "output_type": "execute_result"
    },
    {
     "data": {
      "image/png": "[encoded data removed]",
      "text/plain": [
       "<matplotlib.figure.Figure at 0xa7e54b2c>"
      ]
     },
     "metadata": {},
     "output_type": "display_data"
    }
   ],
   "source": [
    "t = r.x\n",
    "xg = np.vstack((np.ones(100), np.linspace(np.min(d.area), np.max(d.area),100))).T\n",
    "plt.scatter(d.area, d.value)\n",
    "plt.plot(xg[:,1], xg.dot(t))"
   ]
  },
  {
   "cell_type": "markdown",
   "metadata": {},
   "source": [
    "El error de predicción medio que tenemos es de:"
   ]
  },
  {
   "cell_type": "code",
   "execution_count": 13,
   "metadata": {
    "collapsed": false
   },
   "outputs": [
    {
     "data": {
      "text/plain": [
       "22825.971498258597"
      ]
     },
     "execution_count": 13,
     "metadata": {},
     "output_type": "execute_result"
    }
   ],
   "source": [
    "np.mean(np.abs(X.dot(t)-y))"
   ]
  },
  {
   "cell_type": "markdown",
   "metadata": {},
   "source": [
    "El gradiente de $J$ es\n",
    "\n",
    "$$\\nabla J= 2X^{T}\\cdot(X\\cdot\\theta-Y)$$\n",
    "\n",
    "que podemos usar en los procesos de minimización"
   ]
  },
  {
   "cell_type": "code",
   "execution_count": 18,
   "metadata": {
    "collapsed": true
   },
   "outputs": [],
   "source": [
    "def grad(t):\n",
    "    return 2*X.T.dot(X.dot(t)-y)"
   ]
  },
  {
   "cell_type": "code",
   "execution_count": 19,
   "metadata": {
    "collapsed": false
   },
   "outputs": [
    {
     "name": "stdout",
     "output_type": "stream",
     "text": [
      "      fun: 87173791346.97467\n",
      " hess_inv: array([[  6.23113465e-02,  -5.64148580e-04],\n",
      "       [ -5.64148580e-04,   5.55323927e-06]])\n",
      "      jac: array([ -9.89530236e-10,  -9.22009349e-08])\n",
      "  message: 'Optimization terminated successfully.'\n",
      "     nfev: 6\n",
      "      nit: 3\n",
      "     njev: 6\n",
      "   status: 0\n",
      "  success: True\n",
      "        x: array([ 24794.85968752,   2936.83230103])\n"
     ]
    }
   ],
   "source": [
    "r = minimize(cost, [0,0], jac=grad, method=\"BFGS\")\n",
    "print r"
   ]
  },
  {
   "cell_type": "code",
   "execution_count": null,
   "metadata": {
    "collapsed": true
   },
   "outputs": [],
   "source": []
  },
  {
   "cell_type": "code",
   "execution_count": null,
   "metadata": {
    "collapsed": true
   },
   "outputs": [],
   "source": []
  }
 ],
 "metadata": {
  "kernelspec": {
   "display_name": "Python 2",
   "language": "python",
   "name": "python2"
  },
  "language_info": {
   "codemirror_mode": {
    "name": "ipython",
    "version": 2
   },
   "file_extension": ".py",
   "mimetype": "text/x-python",
   "name": "python",
   "nbconvert_exporter": "python",
   "pygments_lexer": "ipython2",
   "version": "2.7.11"
  },
  "toc": {
   "toc_cell": false,
   "toc_number_sections": true,
   "toc_threshold": 6,
   "toc_window_display": false
  },
  "widgets": {
   "state": {},
   "version": "1.1.2"
  }
 },
 "nbformat": 4,
 "nbformat_minor": 0
}
